{
  "nbformat": 4,
  "nbformat_minor": 0,
  "metadata": {
    "colab": {
      "name": "Python_Notebook.ipynb",
      "provenance": [],
      "collapsed_sections": [],
      "include_colab_link": true
    },
    "kernelspec": {
      "name": "python3",
      "display_name": "Python 3"
    }
  },
  "cells": [
    {
      "cell_type": "markdown",
      "metadata": {
        "id": "view-in-github",
        "colab_type": "text"
      },
      "source": [
        "<a href=\"https://colab.research.google.com/github/StacyMwende/MTN-Cote-d-Ivoire_IP_Week3/blob/master/Python_Notebook.ipynb\" target=\"_parent\"><img src=\"https://colab.research.google.com/assets/colab-badge.svg\" alt=\"Open In Colab\"/></a>"
      ]
    },
    {
      "cell_type": "code",
      "metadata": {
        "id": "wCG9qHceVbUS",
        "colab_type": "code",
        "colab": {}
      },
      "source": [
        "#import the pandas library\n",
        "import pandas as pd\n",
        "\n",
        "#import the numpy library\n",
        "import numpy as np\n"
      ],
      "execution_count": 0,
      "outputs": []
    },
    {
      "cell_type": "code",
      "metadata": {
        "id": "K4uUmPSFWtK7",
        "colab_type": "code",
        "outputId": "dd277906-520c-43e4-ec0f-c7cba81f679c",
        "colab": {
          "base_uri": "https://localhost:8080/",
          "height": 318
        }
      },
      "source": [
        "#reading the data from the CSV file and creating the dataframe to be used\n",
        "#\n",
        "df_geo = pd.read_csv(\"cells_geo.csv\", sep=\";\")\n",
        "df_geo\n",
        "df_geo.info()"
      ],
      "execution_count": 6,
      "outputs": [
        {
          "output_type": "stream",
          "text": [
            "<class 'pandas.core.frame.DataFrame'>\n",
            "RangeIndex: 3974 entries, 0 to 3973\n",
            "Data columns (total 12 columns):\n",
            "Unnamed: 0      3974 non-null int64\n",
            "VILLES          3974 non-null object\n",
            "STATUS          3907 non-null object\n",
            "LOCALISATION    3974 non-null object\n",
            "DECOUPZONE      3974 non-null object\n",
            "ZONENAME        3968 non-null object\n",
            "LONGITUDE       3974 non-null float64\n",
            "LATITUDE        3974 non-null float64\n",
            "REGION          3974 non-null object\n",
            "AREA            3951 non-null object\n",
            "CELL_ID         3974 non-null object\n",
            "SITE_CODE       3974 non-null object\n",
            "dtypes: float64(2), int64(1), object(9)\n",
            "memory usage: 372.7+ KB\n"
          ],
          "name": "stdout"
        }
      ]
    },
    {
      "cell_type": "code",
      "metadata": {
        "id": "pLSFsEshzpFH",
        "colab_type": "code",
        "colab": {
          "base_uri": "https://localhost:8080/",
          "height": 407
        },
        "outputId": "49354e38-a360-49e8-94e5-583fca6eb28c"
      },
      "source": [
        "#for data preparation, i perfomed data cleaning as shown below\n",
        "#\n",
        "df_geo = pd.read_csv(\"cells_geo.csv\", sep=\";\")\n",
        "df_geo\n",
        "#cheking for duplicates\n",
        "#df_geo.duplicated()\n",
        "#checking for the most used city for the 3 days\n",
        "\n",
        "\n"
      ],
      "execution_count": 42,
      "outputs": [
        {
          "output_type": "error",
          "ename": "KeyError",
          "evalue": "ignored",
          "traceback": [
            "\u001b[0;31m---------------------------------------------------------------------------\u001b[0m",
            "\u001b[0;31mKeyError\u001b[0m                                  Traceback (most recent call last)",
            "\u001b[0;32m<ipython-input-42-ded49e044d2f>\u001b[0m in \u001b[0;36m<module>\u001b[0;34m()\u001b[0m\n\u001b[1;32m      4\u001b[0m \u001b[0;31m#df_geo.duplicated()\u001b[0m\u001b[0;34m\u001b[0m\u001b[0;34m\u001b[0m\u001b[0;34m\u001b[0m\u001b[0m\n\u001b[1;32m      5\u001b[0m \u001b[0;31m#checking for the most used city for the 3 days\u001b[0m\u001b[0;34m\u001b[0m\u001b[0;34m\u001b[0m\u001b[0;34m\u001b[0m\u001b[0m\n\u001b[0;32m----> 6\u001b[0;31m \u001b[0mmost_cities\u001b[0m \u001b[0;34m=\u001b[0m \u001b[0mdf_geo\u001b[0m\u001b[0;34m.\u001b[0m\u001b[0mgroupby\u001b[0m\u001b[0;34m(\u001b[0m\u001b[0;34m'PRODUCT'\u001b[0m\u001b[0;34m)\u001b[0m\u001b[0;34m[\u001b[0m\u001b[0;34m'VALUE'\u001b[0m\u001b[0;34m]\u001b[0m\u001b[0;34m.\u001b[0m\u001b[0msum\u001b[0m\u001b[0;34m(\u001b[0m\u001b[0;34m)\u001b[0m\u001b[0;34m\u001b[0m\u001b[0;34m\u001b[0m\u001b[0m\n\u001b[0m\u001b[1;32m      7\u001b[0m \u001b[0;31m#b1.sort_values(ascending=False)\u001b[0m\u001b[0;34m\u001b[0m\u001b[0;34m\u001b[0m\u001b[0;34m\u001b[0m\u001b[0m\n\u001b[1;32m      8\u001b[0m \u001b[0;34m\u001b[0m\u001b[0m\n",
            "\u001b[0;32m/usr/local/lib/python3.6/dist-packages/pandas/core/generic.py\u001b[0m in \u001b[0;36mgroupby\u001b[0;34m(self, by, axis, level, as_index, sort, group_keys, squeeze, observed, **kwargs)\u001b[0m\n\u001b[1;32m   7892\u001b[0m             \u001b[0msqueeze\u001b[0m\u001b[0;34m=\u001b[0m\u001b[0msqueeze\u001b[0m\u001b[0;34m,\u001b[0m\u001b[0;34m\u001b[0m\u001b[0;34m\u001b[0m\u001b[0m\n\u001b[1;32m   7893\u001b[0m             \u001b[0mobserved\u001b[0m\u001b[0;34m=\u001b[0m\u001b[0mobserved\u001b[0m\u001b[0;34m,\u001b[0m\u001b[0;34m\u001b[0m\u001b[0;34m\u001b[0m\u001b[0m\n\u001b[0;32m-> 7894\u001b[0;31m             \u001b[0;34m**\u001b[0m\u001b[0mkwargs\u001b[0m\u001b[0;34m\u001b[0m\u001b[0;34m\u001b[0m\u001b[0m\n\u001b[0m\u001b[1;32m   7895\u001b[0m         )\n\u001b[1;32m   7896\u001b[0m \u001b[0;34m\u001b[0m\u001b[0m\n",
            "\u001b[0;32m/usr/local/lib/python3.6/dist-packages/pandas/core/groupby/groupby.py\u001b[0m in \u001b[0;36mgroupby\u001b[0;34m(obj, by, **kwds)\u001b[0m\n\u001b[1;32m   2520\u001b[0m         \u001b[0;32mraise\u001b[0m \u001b[0mTypeError\u001b[0m\u001b[0;34m(\u001b[0m\u001b[0;34m\"invalid type: {}\"\u001b[0m\u001b[0;34m.\u001b[0m\u001b[0mformat\u001b[0m\u001b[0;34m(\u001b[0m\u001b[0mobj\u001b[0m\u001b[0;34m)\u001b[0m\u001b[0;34m)\u001b[0m\u001b[0;34m\u001b[0m\u001b[0;34m\u001b[0m\u001b[0m\n\u001b[1;32m   2521\u001b[0m \u001b[0;34m\u001b[0m\u001b[0m\n\u001b[0;32m-> 2522\u001b[0;31m     \u001b[0;32mreturn\u001b[0m \u001b[0mklass\u001b[0m\u001b[0;34m(\u001b[0m\u001b[0mobj\u001b[0m\u001b[0;34m,\u001b[0m \u001b[0mby\u001b[0m\u001b[0;34m,\u001b[0m \u001b[0;34m**\u001b[0m\u001b[0mkwds\u001b[0m\u001b[0;34m)\u001b[0m\u001b[0;34m\u001b[0m\u001b[0;34m\u001b[0m\u001b[0m\n\u001b[0m",
            "\u001b[0;32m/usr/local/lib/python3.6/dist-packages/pandas/core/groupby/groupby.py\u001b[0m in \u001b[0;36m__init__\u001b[0;34m(self, obj, keys, axis, level, grouper, exclusions, selection, as_index, sort, group_keys, squeeze, observed, **kwargs)\u001b[0m\n\u001b[1;32m    389\u001b[0m                 \u001b[0msort\u001b[0m\u001b[0;34m=\u001b[0m\u001b[0msort\u001b[0m\u001b[0;34m,\u001b[0m\u001b[0;34m\u001b[0m\u001b[0;34m\u001b[0m\u001b[0m\n\u001b[1;32m    390\u001b[0m                 \u001b[0mobserved\u001b[0m\u001b[0;34m=\u001b[0m\u001b[0mobserved\u001b[0m\u001b[0;34m,\u001b[0m\u001b[0;34m\u001b[0m\u001b[0;34m\u001b[0m\u001b[0m\n\u001b[0;32m--> 391\u001b[0;31m                 \u001b[0mmutated\u001b[0m\u001b[0;34m=\u001b[0m\u001b[0mself\u001b[0m\u001b[0;34m.\u001b[0m\u001b[0mmutated\u001b[0m\u001b[0;34m,\u001b[0m\u001b[0;34m\u001b[0m\u001b[0;34m\u001b[0m\u001b[0m\n\u001b[0m\u001b[1;32m    392\u001b[0m             )\n\u001b[1;32m    393\u001b[0m \u001b[0;34m\u001b[0m\u001b[0m\n",
            "\u001b[0;32m/usr/local/lib/python3.6/dist-packages/pandas/core/groupby/grouper.py\u001b[0m in \u001b[0;36m_get_grouper\u001b[0;34m(obj, key, axis, level, sort, observed, mutated, validate)\u001b[0m\n\u001b[1;32m    619\u001b[0m                 \u001b[0min_axis\u001b[0m\u001b[0;34m,\u001b[0m \u001b[0mname\u001b[0m\u001b[0;34m,\u001b[0m \u001b[0mlevel\u001b[0m\u001b[0;34m,\u001b[0m \u001b[0mgpr\u001b[0m \u001b[0;34m=\u001b[0m \u001b[0;32mFalse\u001b[0m\u001b[0;34m,\u001b[0m \u001b[0;32mNone\u001b[0m\u001b[0;34m,\u001b[0m \u001b[0mgpr\u001b[0m\u001b[0;34m,\u001b[0m \u001b[0;32mNone\u001b[0m\u001b[0;34m\u001b[0m\u001b[0;34m\u001b[0m\u001b[0m\n\u001b[1;32m    620\u001b[0m             \u001b[0;32melse\u001b[0m\u001b[0;34m:\u001b[0m\u001b[0;34m\u001b[0m\u001b[0;34m\u001b[0m\u001b[0m\n\u001b[0;32m--> 621\u001b[0;31m                 \u001b[0;32mraise\u001b[0m \u001b[0mKeyError\u001b[0m\u001b[0;34m(\u001b[0m\u001b[0mgpr\u001b[0m\u001b[0;34m)\u001b[0m\u001b[0;34m\u001b[0m\u001b[0;34m\u001b[0m\u001b[0m\n\u001b[0m\u001b[1;32m    622\u001b[0m         \u001b[0;32melif\u001b[0m \u001b[0misinstance\u001b[0m\u001b[0;34m(\u001b[0m\u001b[0mgpr\u001b[0m\u001b[0;34m,\u001b[0m \u001b[0mGrouper\u001b[0m\u001b[0;34m)\u001b[0m \u001b[0;32mand\u001b[0m \u001b[0mgpr\u001b[0m\u001b[0;34m.\u001b[0m\u001b[0mkey\u001b[0m \u001b[0;32mis\u001b[0m \u001b[0;32mnot\u001b[0m \u001b[0;32mNone\u001b[0m\u001b[0;34m:\u001b[0m\u001b[0;34m\u001b[0m\u001b[0;34m\u001b[0m\u001b[0m\n\u001b[1;32m    623\u001b[0m             \u001b[0;31m# Add key to exclusions\u001b[0m\u001b[0;34m\u001b[0m\u001b[0;34m\u001b[0m\u001b[0;34m\u001b[0m\u001b[0m\n",
            "\u001b[0;31mKeyError\u001b[0m: 'PRODUCT'"
          ]
        }
      ]
    },
    {
      "cell_type": "code",
      "metadata": {
        "id": "XL3ostR1YS1A",
        "colab_type": "code",
        "colab": {
          "base_uri": "https://localhost:8080/",
          "height": 283
        },
        "outputId": "5d09d33a-29e3-40cc-a9d9-024f09fc1193"
      },
      "source": [
        "df_tel1 = pd.read_csv(\"Telcom_dataset.csv\")\n",
        "df_tel1 \n",
        "df_tel1.info()"
      ],
      "execution_count": 7,
      "outputs": [
        {
          "output_type": "stream",
          "text": [
            "<class 'pandas.core.frame.DataFrame'>\n",
            "RangeIndex: 5001 entries, 0 to 5000\n",
            "Data columns (total 10 columns):\n",
            "PRODUTC            5001 non-null object\n",
            "VALUE              5001 non-null int64\n",
            "DATETIME           5001 non-null object\n",
            "CELL_ON_SITE       5001 non-null object\n",
            "DW_A_NUMBER_INT    5001 non-null object\n",
            "DW_B_NUMBER_INT    5001 non-null object\n",
            "COUNTRY_A          5001 non-null object\n",
            "COUNTRY_B          5001 non-null object\n",
            "CELL_ID            5001 non-null object\n",
            "SITE_ID            4285 non-null object\n",
            "dtypes: int64(1), object(9)\n",
            "memory usage: 390.8+ KB\n"
          ],
          "name": "stdout"
        }
      ]
    },
    {
      "cell_type": "code",
      "metadata": {
        "id": "UDbUtbrk2CTk",
        "colab_type": "code",
        "colab": {
          "base_uri": "https://localhost:8080/",
          "height": 283
        },
        "outputId": "ec9e8541-6401-4409-9e82-063ccd5dd8fe"
      },
      "source": [
        "#Data preparation: Data cleaning process\n",
        "#\n",
        "df_tel1 = pd.read_csv(\"Telcom_dataset.csv\")\n",
        "df_tel1 \n",
        "#checking for duplicates\n",
        "#df_tel1.duplicated()\n",
        "#renaming mispelled column\n",
        "df_tel1 = df_tel1.rename(columns={'PRODUTC':'PRODUCT','DATETIME':'DATE_TIME'})\n",
        "df_tel1.info()\n"
      ],
      "execution_count": 12,
      "outputs": [
        {
          "output_type": "stream",
          "text": [
            "<class 'pandas.core.frame.DataFrame'>\n",
            "RangeIndex: 5001 entries, 0 to 5000\n",
            "Data columns (total 10 columns):\n",
            "PRODUCT            5001 non-null object\n",
            "VALUE              5001 non-null int64\n",
            "DATE_TIME          5001 non-null object\n",
            "CELL_ON_SITE       5001 non-null object\n",
            "DW_A_NUMBER_INT    5001 non-null object\n",
            "DW_B_NUMBER_INT    5001 non-null object\n",
            "COUNTRY_A          5001 non-null object\n",
            "COUNTRY_B          5001 non-null object\n",
            "CELL_ID            5001 non-null object\n",
            "SITE_ID            4285 non-null object\n",
            "dtypes: int64(1), object(9)\n",
            "memory usage: 390.8+ KB\n"
          ],
          "name": "stdout"
        }
      ]
    },
    {
      "cell_type": "code",
      "metadata": {
        "id": "3_IuYfSwz1Qz",
        "colab_type": "code",
        "colab": {
          "base_uri": "https://localhost:8080/",
          "height": 283
        },
        "outputId": "8e39c266-d0d1-4659-fcf6-5dce33c31d7b"
      },
      "source": [
        "df_tel2 = pd.read_csv(\"Telcom_dataset2.csv\")\n",
        "df_tel2 \n",
        "df_tel2.info()"
      ],
      "execution_count": 16,
      "outputs": [
        {
          "output_type": "stream",
          "text": [
            "<class 'pandas.core.frame.DataFrame'>\n",
            "RangeIndex: 5001 entries, 0 to 5000\n",
            "Data columns (total 10 columns):\n",
            "PRODUCT         5001 non-null object\n",
            "VALUE           5001 non-null int64\n",
            "DATE_TIME       5001 non-null object\n",
            "CELL_ON_SITE    5001 non-null object\n",
            "DW_A_NUMBER     5001 non-null object\n",
            "DW_B_NUMBER     5001 non-null object\n",
            "COUNTRY_A       5001 non-null object\n",
            "COUNTRY_B       5001 non-null object\n",
            "CELL_ID         5001 non-null object\n",
            "SITE_ID         4325 non-null object\n",
            "dtypes: int64(1), object(9)\n",
            "memory usage: 390.8+ KB\n"
          ],
          "name": "stdout"
        }
      ]
    },
    {
      "cell_type": "code",
      "metadata": {
        "id": "u_6G8QJI3KrQ",
        "colab_type": "code",
        "colab": {}
      },
      "source": [
        "#data preparation:data cleaning\n",
        "#\n",
        "df_tel2 = pd.read_csv(\"Telcom_dataset.csv\")\n",
        "df_tel2 \n",
        "#Checking for duplicates\n",
        "#df_tel2.duplicated()\n",
        "#renaming columns to enable merging\n",
        "df_tel2 =df_tel2.rename(columns = {'DW_A_NUMBER':'DW_A_NUMBER_INT', 'DW_B_NUMBER':'DW_A_NUMBER_INT'})\n"
      ],
      "execution_count": 0,
      "outputs": []
    },
    {
      "cell_type": "code",
      "metadata": {
        "id": "VHcWb8900F1d",
        "colab_type": "code",
        "colab": {
          "base_uri": "https://localhost:8080/",
          "height": 283
        },
        "outputId": "dfa6694f-3d06-40cf-df41-b7feef4fd4e7"
      },
      "source": [
        "df_tel3 = pd.read_csv(\"Telcom_dataset3.csv\")\n",
        "df_tel3 \n",
        "df_tel3.info()"
      ],
      "execution_count": 14,
      "outputs": [
        {
          "output_type": "stream",
          "text": [
            "<class 'pandas.core.frame.DataFrame'>\n",
            "RangeIndex: 5001 entries, 0 to 5000\n",
            "Data columns (total 10 columns):\n",
            "PRODUCT            5001 non-null object\n",
            "VALUE              5001 non-null int64\n",
            "DATE_TIME          5001 non-null object\n",
            "CELL_ON_SITE       5001 non-null object\n",
            "DW_A_NUMBER_INT    5001 non-null object\n",
            "DW_B_NUMBER_INT    5001 non-null object\n",
            "COUNTRY_A          5001 non-null object\n",
            "COUNTRY_B          5001 non-null object\n",
            "CELLID             5001 non-null object\n",
            "SIET_ID            4396 non-null object\n",
            "dtypes: int64(1), object(9)\n",
            "memory usage: 390.8+ KB\n"
          ],
          "name": "stdout"
        }
      ]
    },
    {
      "cell_type": "code",
      "metadata": {
        "id": "KRZGQ3C43qIU",
        "colab_type": "code",
        "colab": {}
      },
      "source": [
        "#stage 3:Data preparation - data cleaning\n",
        "df_tel3 = pd.read_csv(\"Telcom_dataset3.csv\")\n",
        "df_tel3 \n",
        "#Checking for duplicates\n",
        "#df_tel2.duplicated()\n",
        "#renaming the mispelled columns\n",
        "df_tel3 = df_tel3.rename(columns = {'CELLID':'CELL_ID', 'SIET_ID':'SITE_ID'})\n",
        "#to review changes\n",
        "df_tel3.info()\n"
      ],
      "execution_count": 0,
      "outputs": []
    },
    {
      "cell_type": "code",
      "metadata": {
        "id": "hYtMA3f03p6m",
        "colab_type": "code",
        "colab": {}
      },
      "source": [
        ""
      ],
      "execution_count": 0,
      "outputs": []
    },
    {
      "cell_type": "code",
      "metadata": {
        "id": "Fey3UAzI0QMg",
        "colab_type": "code",
        "colab": {
          "base_uri": "https://localhost:8080/",
          "height": 481
        },
        "outputId": "5a1c11b6-a1b0-4faa-cedd-49918ce3ecff"
      },
      "source": [
        "#data preparation\n",
        "#in this stage i chose to merge the three telcom_datasets to enable me work on 2 datasets for easier analysis.\n",
        "df_mer = [df_tel1, df_tel2, df_tel3]\n",
        "df_merged = pd.concat(df_mer)\n",
        "df_merged\n",
        "df_merged.info()"
      ],
      "execution_count": 44,
      "outputs": [
        {
          "output_type": "stream",
          "text": [
            "<class 'pandas.core.frame.DataFrame'>\n",
            "Int64Index: 15003 entries, 0 to 5000\n",
            "Data columns (total 12 columns):\n",
            "CELL_ID            15003 non-null object\n",
            "CELL_ON_SITE       15003 non-null object\n",
            "COUNTRY_A          15003 non-null object\n",
            "COUNTRY_B          15003 non-null object\n",
            "DATETIME           5001 non-null object\n",
            "DATE_TIME          10002 non-null object\n",
            "DW_A_NUMBER_INT    15003 non-null object\n",
            "DW_B_NUMBER_INT    15003 non-null object\n",
            "PRODUCT            10002 non-null object\n",
            "PRODUTC            5001 non-null object\n",
            "SITE_ID            12966 non-null object\n",
            "VALUE              15003 non-null int64\n",
            "dtypes: int64(1), object(11)\n",
            "memory usage: 1.5+ MB\n"
          ],
          "name": "stdout"
        },
        {
          "output_type": "stream",
          "text": [
            "/usr/local/lib/python3.6/dist-packages/ipykernel_launcher.py:2: FutureWarning: Sorting because non-concatenation axis is not aligned. A future version\n",
            "of pandas will change to not sort by default.\n",
            "\n",
            "To accept the future behavior, pass 'sort=False'.\n",
            "\n",
            "To retain the current behavior and silence the warning, pass 'sort=True'.\n",
            "\n",
            "  \n"
          ],
          "name": "stderr"
        }
      ]
    },
    {
      "cell_type": "code",
      "metadata": {
        "id": "ZLNDomAW7j5W",
        "colab_type": "code",
        "colab": {
          "base_uri": "https://localhost:8080/",
          "height": 445
        },
        "outputId": "b2fec955-38a5-4152-c9ac-4d3b22e7f1c4"
      },
      "source": [
        "#dropping some columns from the merged dataset\n",
        "#\n",
        "df_mer = [df_tel1, df_tel2, df_tel3]\n",
        "df_merged = pd.concat(df_mer)\n",
        "df_merged\n",
        "df_merged.drop(['COUNTRY_A', 'COUNTRY_B'], axis=1, inplace=True)\n",
        "df_merged.info()"
      ],
      "execution_count": 39,
      "outputs": [
        {
          "output_type": "stream",
          "text": [
            "<class 'pandas.core.frame.DataFrame'>\n",
            "Int64Index: 15003 entries, 0 to 5000\n",
            "Data columns (total 10 columns):\n",
            "CELL_ID            15003 non-null object\n",
            "CELL_ON_SITE       15003 non-null object\n",
            "DATETIME           5001 non-null object\n",
            "DATE_TIME          10002 non-null object\n",
            "DW_A_NUMBER_INT    15003 non-null object\n",
            "DW_B_NUMBER_INT    15003 non-null object\n",
            "PRODUCT            10002 non-null object\n",
            "PRODUTC            5001 non-null object\n",
            "SITE_ID            12966 non-null object\n",
            "VALUE              15003 non-null int64\n",
            "dtypes: int64(1), object(9)\n",
            "memory usage: 1.3+ MB\n"
          ],
          "name": "stdout"
        },
        {
          "output_type": "stream",
          "text": [
            "/usr/local/lib/python3.6/dist-packages/ipykernel_launcher.py:2: FutureWarning: Sorting because non-concatenation axis is not aligned. A future version\n",
            "of pandas will change to not sort by default.\n",
            "\n",
            "To accept the future behavior, pass 'sort=False'.\n",
            "\n",
            "To retain the current behavior and silence the warning, pass 'sort=True'.\n",
            "\n",
            "  \n"
          ],
          "name": "stderr"
        }
      ]
    },
    {
      "cell_type": "code",
      "metadata": {
        "id": "Dig7JQH-A_--",
        "colab_type": "code",
        "colab": {}
      },
      "source": [
        ""
      ],
      "execution_count": 0,
      "outputs": []
    },
    {
      "cell_type": "code",
      "metadata": {
        "id": "UW1zXtV4FVuj",
        "colab_type": "code",
        "colab": {
          "base_uri": "https://localhost:8080/",
          "height": 105
        },
        "outputId": "a726e2e8-cfb8-4974-a7de-35493007f2b1"
      },
      "source": [
        "#for stage 4 of data analysis\n",
        "#\n",
        "#most used city for the three days\n",
        "most_used_product=df_merged.groupby('PRODUCT')['VALUE'].sum()\n",
        "most_used_product.sort_values(ascending=False)"
      ],
      "execution_count": 45,
      "outputs": [
        {
          "output_type": "execute_result",
          "data": {
            "text/plain": [
              "PRODUCT\n",
              "Voice    209107\n",
              "sms       40714\n",
              "data      11787\n",
              "Name: VALUE, dtype: int64"
            ]
          },
          "metadata": {
            "tags": []
          },
          "execution_count": 45
        }
      ]
    },
    {
      "cell_type": "code",
      "metadata": {
        "id": "m65oSyT1FpET",
        "colab_type": "code",
        "colab": {}
      },
      "source": [
        "#i also created an aggregate from multiple tables. provided\n",
        "x = df_group['VALUE'].agg('count')\n",
        "x\n",
        "#pd.pivot_table(df, index=['PRODUCT'],values ='VALUE',aggfunc=np.sum,columns = 'Day')"
      ],
      "execution_count": 0,
      "outputs": []
    }
  ]
}